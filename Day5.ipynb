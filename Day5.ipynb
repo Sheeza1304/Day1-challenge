{
  "nbformat": 4,
  "nbformat_minor": 0,
  "metadata": {
    "colab": {
      "provenance": [],
      "authorship_tag": "ABX9TyPv5/EEiW4GAiyxuzYM7tOu",
      "include_colab_link": true
    },
    "kernelspec": {
      "name": "python3",
      "display_name": "Python 3"
    },
    "language_info": {
      "name": "python"
    }
  },
  "cells": [
    {
      "cell_type": "markdown",
      "metadata": {
        "id": "view-in-github",
        "colab_type": "text"
      },
      "source": [
        "<a href=\"https://colab.research.google.com/github/Sheeza1304/Day1-challenge/blob/main/Day5.ipynb\" target=\"_parent\"><img src=\"https://colab.research.google.com/assets/colab-badge.svg\" alt=\"Open In Colab\"/></a>"
      ]
    },
    {
      "cell_type": "code",
      "execution_count": null,
      "metadata": {
        "id": "AK7jQBCkiUH_"
      },
      "outputs": [],
      "source": [
        "#Day5\n",
        "\n",
        "#User Input"
      ]
    },
    {
      "cell_type": "code",
      "source": [
        "num_sum = int(input(\"Enter any Number!\"))\n",
        "\n",
        "total_sum = sum(range(1, num_sum + 1))\n",
        "\n",
        "print(\"Result Is: \\n\")\n",
        "print(f\"sum is: {total_sum}\")"
      ],
      "metadata": {
        "colab": {
          "base_uri": "https://localhost:8080/"
        },
        "id": "MoxCSmuyifgR",
        "outputId": "43d2a812-859a-4b86-ac78-4a4e32623fa9"
      },
      "execution_count": 2,
      "outputs": [
        {
          "output_type": "stream",
          "name": "stdout",
          "text": [
            "Enter any Number!5\n",
            "Result Is: \n",
            "\n",
            "sum is: 15\n"
          ]
        }
      ]
    },
    {
      "cell_type": "markdown",
      "source": [],
      "metadata": {
        "id": "mw_eNcb3iX0i"
      }
    }
  ]
}